{
 "cells": [
  {
   "cell_type": "code",
   "execution_count": 1,
   "metadata": {},
   "outputs": [],
   "source": [
    "from joblib import Memory\n",
    "import pandas as pd\n",
    "\n",
    "# Configure the cache directory\n",
    "cache_dir = 'cache_directory'\n",
    "memory = Memory(cache_dir, verbose=0)"
   ]
  },
  {
   "cell_type": "code",
   "execution_count": 2,
   "metadata": {},
   "outputs": [],
   "source": [
    "@memory.cache\n",
    "def data_processing():\n",
    "    # Read the three CSV files\n",
    "    df1 = pd.read_csv('./life_expectancy_years.csv')\n",
    "    df2 = pd.read_csv('./population_total.csv')\n",
    "    df3 = pd.read_csv('./ny_gnp_pcap_cn.csv')\n",
    "\n",
    "    # Forward fill the missing data\n",
    "    df1 = df1.ffill()\n",
    "    df2 = df2.ffill()\n",
    "    df3 = df3.ffill()\n",
    "\n",
    "    # Reshape each dataframe into tidy format\n",
    "    df1 = pd.melt(df1, id_vars=['country'], var_name='year', value_name='life_expectancy')\n",
    "    df2 = pd.melt(df2, id_vars=['country'], var_name='year', value_name='population')\n",
    "    df3 = pd.melt(df3, id_vars=['country'], var_name='year', value_name='gni_per_capita')\n",
    "\n",
    "    # Merge the three dataframes into one\n",
    "    merged_df = pd.merge(df1, df2, on=['country', 'year'], how='outer')\n",
    "    merged_df = pd.merge(merged_df, df3, on=['country', 'year'], how='outer')\n",
    "\n",
    "    return merged_df\n",
    "\n",
    "# Call the function to process the data (results will be cached)\n",
    "result_df = data_processing()\n",
    "\n",
    "\n"
   ]
  },
  {
   "cell_type": "code",
   "execution_count": 3,
   "metadata": {},
   "outputs": [
    {
     "data": {
      "text/html": [
       "<div>\n",
       "<style scoped>\n",
       "    .dataframe tbody tr th:only-of-type {\n",
       "        vertical-align: middle;\n",
       "    }\n",
       "\n",
       "    .dataframe tbody tr th {\n",
       "        vertical-align: top;\n",
       "    }\n",
       "\n",
       "    .dataframe thead th {\n",
       "        text-align: right;\n",
       "    }\n",
       "</style>\n",
       "<table border=\"1\" class=\"dataframe\">\n",
       "  <thead>\n",
       "    <tr style=\"text-align: right;\">\n",
       "      <th></th>\n",
       "      <th>country</th>\n",
       "      <th>year</th>\n",
       "      <th>life_expectancy</th>\n",
       "      <th>population</th>\n",
       "      <th>gni_per_capita</th>\n",
       "    </tr>\n",
       "  </thead>\n",
       "  <tbody>\n",
       "    <tr>\n",
       "      <th>0</th>\n",
       "      <td>Afghanistan</td>\n",
       "      <td>1800</td>\n",
       "      <td>28.2</td>\n",
       "      <td>3.28M</td>\n",
       "      <td>NaN</td>\n",
       "    </tr>\n",
       "    <tr>\n",
       "      <th>1</th>\n",
       "      <td>Angola</td>\n",
       "      <td>1800</td>\n",
       "      <td>27.0</td>\n",
       "      <td>1.57M</td>\n",
       "      <td>NaN</td>\n",
       "    </tr>\n",
       "    <tr>\n",
       "      <th>2</th>\n",
       "      <td>Albania</td>\n",
       "      <td>1800</td>\n",
       "      <td>35.4</td>\n",
       "      <td>400k</td>\n",
       "      <td>NaN</td>\n",
       "    </tr>\n",
       "    <tr>\n",
       "      <th>3</th>\n",
       "      <td>Andorra</td>\n",
       "      <td>1800</td>\n",
       "      <td>35.4</td>\n",
       "      <td>2650</td>\n",
       "      <td>NaN</td>\n",
       "    </tr>\n",
       "    <tr>\n",
       "      <th>4</th>\n",
       "      <td>United Arab Emirates</td>\n",
       "      <td>1800</td>\n",
       "      <td>30.7</td>\n",
       "      <td>40.2k</td>\n",
       "      <td>NaN</td>\n",
       "    </tr>\n",
       "  </tbody>\n",
       "</table>\n",
       "</div>"
      ],
      "text/plain": [
       "                country  year  life_expectancy population gni_per_capita\n",
       "0           Afghanistan  1800             28.2      3.28M            NaN\n",
       "1                Angola  1800             27.0      1.57M            NaN\n",
       "2               Albania  1800             35.4       400k            NaN\n",
       "3               Andorra  1800             35.4       2650            NaN\n",
       "4  United Arab Emirates  1800             30.7      40.2k            NaN"
      ]
     },
     "execution_count": 3,
     "metadata": {},
     "output_type": "execute_result"
    }
   ],
   "source": [
    "# Print the cached dataframe\n",
    "result_df.head()"
   ]
  }
 ],
 "metadata": {
  "kernelspec": {
   "display_name": "Python 3",
   "language": "python",
   "name": "python3"
  },
  "language_info": {
   "codemirror_mode": {
    "name": "ipython",
    "version": 3
   },
   "file_extension": ".py",
   "mimetype": "text/x-python",
   "name": "python",
   "nbconvert_exporter": "python",
   "pygments_lexer": "ipython3",
   "version": "3.10.11"
  },
  "orig_nbformat": 4
 },
 "nbformat": 4,
 "nbformat_minor": 2
}
